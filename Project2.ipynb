{
 "cells": [
  {
   "cell_type": "code",
   "execution_count": 103,
   "id": "f170e9ef-9694-4603-a145-24cd1c78e0c7",
   "metadata": {
    "tags": []
   },
   "outputs": [],
   "source": [
    "#1\n",
    "def f(x,y):\n",
    "    return x**2 + y**2 + x*y - 3*x - 4*y - 5\n",
    "def fx(x,y):\n",
    "    return 2*x + y - 3\n",
    "def fy(x,y):\n",
    "    return 2*y + x - 4"
   ]
  },
  {
   "cell_type": "code",
   "execution_count": 87,
   "id": "60fb3647-998f-4977-a246-b3d9f8fd202f",
   "metadata": {
    "tags": []
   },
   "outputs": [
    {
     "data": {
      "text/plain": [
       "4"
      ]
     },
     "execution_count": 87,
     "metadata": {},
     "output_type": "execute_result"
    }
   ],
   "source": [
    "fx(2,3)"
   ]
  },
  {
   "cell_type": "code",
   "execution_count": 88,
   "id": "d5573787-2549-4f86-97ec-c5ecec8b2248",
   "metadata": {
    "tags": []
   },
   "outputs": [
    {
     "data": {
      "text/plain": [
       "4"
      ]
     },
     "execution_count": 88,
     "metadata": {},
     "output_type": "execute_result"
    }
   ],
   "source": [
    "fy(2,3)"
   ]
  },
  {
   "cell_type": "code",
   "execution_count": 217,
   "id": "878c766a-c157-485d-9127-3c78de6021b7",
   "metadata": {
    "tags": []
   },
   "outputs": [],
   "source": [
    "#2\n",
    "def xy(fx,x,y,n,s):\n",
    "    Lx = [x]\n",
    "    Ly = [y]\n",
    "    for i in range(n):\n",
    "        x = Lx[i] - s*(fx(Lx[i],Ly[i]))\n",
    "        Lx.append(x)\n",
    "        y = Ly[i] - s*(fy(Lx[i],Ly[i]))\n",
    "        Ly.append(y)\n",
    "    return (Lx[n],Ly[n])"
   ]
  },
  {
   "cell_type": "code",
   "execution_count": 218,
   "id": "5ccc2123-ab3f-49be-ba1f-9889df3fd6b7",
   "metadata": {
    "tags": []
   },
   "outputs": [
    {
     "name": "stdout",
     "output_type": "stream",
     "text": [
      "(1.6, 2.6)\n"
     ]
    }
   ],
   "source": [
    "print(xy(fx,2,3,1,.1))"
   ]
  },
  {
   "cell_type": "code",
   "execution_count": 219,
   "id": "122b4302-faef-49d6-be9f-6b05e8a975ac",
   "metadata": {
    "tags": []
   },
   "outputs": [
    {
     "name": "stdout",
     "output_type": "stream",
     "text": [
      "(1.32, 2.32)\n"
     ]
    }
   ],
   "source": [
    "#3\n",
    "print(xy(fx,2,3,2,.1))"
   ]
  },
  {
   "cell_type": "code",
   "execution_count": 220,
   "id": "80206296-6a5f-4c5d-9949-60117bd44ac9",
   "metadata": {
    "tags": []
   },
   "outputs": [
    {
     "data": {
      "text/plain": [
       "(0.667730563550635, 1.6677305635506348)"
      ]
     },
     "execution_count": 220,
     "metadata": {},
     "output_type": "execute_result"
    }
   ],
   "source": [
    "#4\n",
    "xy(fx,2,3,20,.1)"
   ]
  },
  {
   "cell_type": "code",
   "execution_count": 221,
   "id": "1cfe92b8-fbad-41a3-ae57-b21ec37c416d",
   "metadata": {
    "tags": []
   },
   "outputs": [
    {
     "name": "stdout",
     "output_type": "stream",
     "text": [
      "(0.7300700105672079, 1.7300700105672078)\n"
     ]
    }
   ],
   "source": [
    "#5\n",
    "print(xy(fx,2,3,100,.01))\n",
    "#It appears to be more accurate but takes more iterations to reach a consistent conclusion"
   ]
  },
  {
   "cell_type": "code",
   "execution_count": 222,
   "id": "92401f67-724b-4481-b6ba-44d91876c50c",
   "metadata": {
    "tags": []
   },
   "outputs": [
    {
     "name": "stdout",
     "output_type": "stream",
     "text": [
      "(1366, 1367)\n"
     ]
    }
   ],
   "source": [
    "#6\n",
    "print(xy(fx,2,3,10,1))\n",
    "#The values seem to \"fly off\" and become irrelevant, meaning this step size doesn't work"
   ]
  },
  {
   "cell_type": "code",
   "execution_count": 223,
   "id": "e1ab69dc-67d1-434e-b281-4a7b4d7113ba",
   "metadata": {
    "tags": []
   },
   "outputs": [
    {
     "name": "stdout",
     "output_type": "stream",
     "text": [
      "(0.6666679382324219, 1.6666679382324219)\n"
     ]
    }
   ],
   "source": [
    "#7\n",
    "print(xy(fx,2,3,20,.5))\n",
    "#It seems to reach a consistent conclusion faster than other step sizes"
   ]
  },
  {
   "cell_type": "code",
   "execution_count": 224,
   "id": "6ceaf3a6-f0d8-41f9-9720-249849f8c79d",
   "metadata": {
    "tags": []
   },
   "outputs": [
    {
     "name": "stdout",
     "output_type": "stream",
     "text": [
      "(0.6666755676269531, 1.6666746139526367)\n"
     ]
    }
   ],
   "source": [
    "#8\n",
    "print(xy(fx,10,10,20,.5))\n",
    "#We do appear to be converging at the same point"
   ]
  },
  {
   "cell_type": "code",
   "execution_count": 225,
   "id": "3c45d22e-5b9b-4665-8e7d-935372510fdf",
   "metadata": {
    "tags": []
   },
   "outputs": [
    {
     "name": "stdout",
     "output_type": "stream",
     "text": [
      "(0.6676197052001953, 1.667618751525879)\n"
     ]
    }
   ],
   "source": [
    "#9\n",
    "print(xy(fx,1000,1000,20,.5))\n",
    "#It seems a little worse since it doesn't narrow it down to as many digits as 10,10"
   ]
  },
  {
   "cell_type": "code",
   "execution_count": 239,
   "id": "4d3b3a03-54db-4c0d-bbef-73e28e3a9d6b",
   "metadata": {
    "tags": []
   },
   "outputs": [],
   "source": [
    "def g(x,y):\n",
    "    return x**4 + 7*y**2 - 20*x*y + 6*x + 10*y\n",
    "def gx(x,y):\n",
    "    return 4*x**3 - 20*y + 6\n",
    "def gy(x,y):\n",
    "    return 14*y -20*x + 10\n",
    "\n",
    "def gxy(gx,gy,x,y,n,s):\n",
    "    Lgx = [x]\n",
    "    Lgy = [y]\n",
    "    for i in range(n):\n",
    "        x = Lgx[i] - s*(gx(Lgx[i],Lgy[i]))\n",
    "        Lgx.append(x)\n",
    "        y = Lgy[i] - s*(gy(Lgx[i],Lgy[i]))\n",
    "        Lgy.append(y)\n",
    "    print(g(Lgx[n],Lgy[n]))\n",
    "    return (Lgx[n],Lgy[n])"
   ]
  },
  {
   "cell_type": "code",
   "execution_count": 233,
   "id": "27e1db1a-07d5-43e9-a97d-7cee9a65013b",
   "metadata": {
    "tags": []
   },
   "outputs": [
    {
     "name": "stdout",
     "output_type": "stream",
     "text": [
      "-4.599780283420095\n"
     ]
    },
    {
     "data": {
      "text/plain": [
       "(2.147717621151467, 2.2974027221836018)"
      ]
     },
     "execution_count": 233,
     "metadata": {},
     "output_type": "execute_result"
    }
   ],
   "source": [
    "#10,11\n",
    "gxy(gx,gy,2,2,20,.01)\n",
    "#It appears to be (2.144,2.29)"
   ]
  },
  {
   "cell_type": "code",
   "execution_count": 234,
   "id": "9e58d83a-16e0-46d4-98a4-25d2c922d391",
   "metadata": {
    "tags": []
   },
   "outputs": [
    {
     "name": "stdout",
     "output_type": "stream",
     "text": [
      "-4.61275209934109\n"
     ]
    },
    {
     "data": {
      "text/plain": [
       "(2.153762283163006, 2.312324891812875)"
      ]
     },
     "execution_count": 234,
     "metadata": {},
     "output_type": "execute_result"
    }
   ],
   "source": [
    "#12,13\n",
    "gxy(gx,gy,2.147717621151467,2.2974027221836018,200,.0001)\n",
    "#I assume this is closer to the actual minimum because the number wasn't a random guess\n",
    "#We derived the X and Y values from a previous guess and made it more accurate"
   ]
  },
  {
   "cell_type": "code",
   "execution_count": 235,
   "id": "d8d6f4f8-955b-464e-9c69-0b3f93ec9e10",
   "metadata": {
    "tags": []
   },
   "outputs": [],
   "source": [
    "#14\n",
    "def h(x,y):\n",
    "    return 2*x**6 + y**6 - 10*(x**3)*y + 20*x*(y**3)\n",
    "def hx(x,y):\n",
    "    return 12*x**5 - 30*(x**2)*y + 20*(y**3)\n",
    "def hy(x,y):\n",
    "    return 6*y**5 - 10*x**3 + 60*x*(y**2)\n",
    "\n",
    "def hxy(hx,hy,x,y,n,s):\n",
    "    Lhx = [x]\n",
    "    Lhy = [y]\n",
    "    for i in range(n):\n",
    "        x = Lhx[i] - s*(hx(Lhx[i],Lhy[i]))\n",
    "        Lhx.append(x)\n",
    "        y = Lhy[i] - s*(hy(Lhx[i],Lhy[i]))\n",
    "        Lhy.append(y)\n",
    "    print(h(Lhx[n],Lhy[n]),(Lhx[n],Lhy[n]))"
   ]
  },
  {
   "cell_type": "code",
   "execution_count": 236,
   "id": "ccf70680-f059-4925-bb0b-fedeb23db980",
   "metadata": {
    "tags": []
   },
   "outputs": [
    {
     "name": "stdout",
     "output_type": "stream",
     "text": [
      "-0.7432458485922122 (0.952820312346242, 0.3881153585848066)\n"
     ]
    }
   ],
   "source": [
    "hxy(hx,hy,1,1,20,.01)"
   ]
  },
  {
   "cell_type": "code",
   "execution_count": 238,
   "id": "093081f3-4c46-4108-b34e-01f1d9fccf32",
   "metadata": {
    "tags": []
   },
   "outputs": [
    {
     "name": "stdout",
     "output_type": "stream",
     "text": [
      "-0.743268164145072 (0.95145243280032, 0.38726183028512073)\n"
     ]
    }
   ],
   "source": [
    "hxy(hx,hy,0.952820312346242,0.3881153585848066,200,.001)"
   ]
  }
 ],
 "metadata": {
  "kernelspec": {
   "display_name": "Python 3 (ipykernel)",
   "language": "python",
   "name": "python3"
  },
  "language_info": {
   "codemirror_mode": {
    "name": "ipython",
    "version": 3
   },
   "file_extension": ".py",
   "mimetype": "text/x-python",
   "name": "python",
   "nbconvert_exporter": "python",
   "pygments_lexer": "ipython3",
   "version": "3.12.4"
  }
 },
 "nbformat": 4,
 "nbformat_minor": 5
}
